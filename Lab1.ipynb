{
 "cells": [
  {
   "cell_type": "markdown",
   "metadata": {},
   "source": [
    "Check you can import a package by loading numpy. If you want to use the standard short name np then do so."
   ]
  },
  {
   "cell_type": "code",
   "execution_count": 1,
   "metadata": {},
   "outputs": [],
   "source": [
    "import numpy as np\n",
    "import matplotlib\n",
    "import matplotlib.pyplot as plt"
   ]
  },
  {
   "cell_type": "markdown",
   "metadata": {},
   "source": [
    "Define the vector v as v = (1, 2), as a numpy array. Check its shape and length. Using numpy, compute the sum of all its entries."
   ]
  },
  {
   "cell_type": "code",
   "execution_count": 15,
   "metadata": {},
   "outputs": [
    {
     "data": {
      "text/plain": [
       "(2,)"
      ]
     },
     "execution_count": 15,
     "metadata": {},
     "output_type": "execute_result"
    }
   ],
   "source": [
    "v = np.array([1,2])\n",
    "v.shape"
   ]
  },
  {
   "cell_type": "markdown",
   "metadata": {},
   "source": [
    "Define the matrix A as\n",
    "𝐴 = (2 3;\n",
    "     6 5)\n",
    "as a numpy array. Check its size and shape. Using numpy compute its transpose. Using numpy compute 𝐴𝑣."
   ]
  },
  {
   "cell_type": "code",
   "execution_count": 3,
   "metadata": {
    "scrolled": true
   },
   "outputs": [
    {
     "name": "stdout",
     "output_type": "stream",
     "text": [
      "[[2 3]\n",
      " [6 5]]\n",
      "[[-0.625  0.375]\n",
      " [ 0.75  -0.25 ]]\n"
     ]
    },
    {
     "data": {
      "text/plain": [
       "array([ 8, 16])"
      ]
     },
     "execution_count": 3,
     "metadata": {},
     "output_type": "execute_result"
    }
   ],
   "source": [
    "A = np.array([[2, 3],[6, 5]])\n",
    "print(A)\n",
    "print(np.linalg.inv(A))\n",
    "np.dot(A,v)"
   ]
  },
  {
   "cell_type": "markdown",
   "metadata": {},
   "source": [
    "Using the linalg package within numpy compute the eigenvalues and eigenvectors of 𝐴."
   ]
  },
  {
   "cell_type": "code",
   "execution_count": 4,
   "metadata": {},
   "outputs": [
    {
     "data": {
      "text/plain": [
       "(array([-1.,  8.]),\n",
       " array([[-0.70710678, -0.4472136 ],\n",
       "        [ 0.70710678, -0.89442719]]))"
      ]
     },
     "execution_count": 4,
     "metadata": {},
     "output_type": "execute_result"
    }
   ],
   "source": [
    "np.linalg.eig(A)"
   ]
  },
  {
   "cell_type": "markdown",
   "metadata": {},
   "source": [
    "Store the eigenvalues and eigenvectors in separate variables. Using colon, or slicing, nota􀆟on, store the first eigenvector (associated with the first eigenvalue) in a separate variable."
   ]
  },
  {
   "cell_type": "code",
   "execution_count": 5,
   "metadata": {},
   "outputs": [
    {
     "name": "stdout",
     "output_type": "stream",
     "text": [
      "(array([-1.,  8.]), array([[-0.70710678, -0.4472136 ],\n",
      "       [ 0.70710678, -0.89442719]]))\n",
      "-1.0\n",
      "8.0\n",
      "Eigenvalue and Eigenvector 1\n",
      "[-1.0, array([[-0.70710678],\n",
      "       [ 0.70710678]])]\n",
      "Eigenvalue and Eigenvector 2\n",
      "[8.0, array([[-0.4472136 ],\n",
      "       [-0.89442719]])]\n"
     ]
    }
   ],
   "source": [
    "eig = np.linalg.eig(A)\n",
    "print(eig)\n",
    "\n",
    "val1 = np.linalg.eig(A)[0][0]\n",
    "val2 = np.linalg.eig(A)[0][1]\n",
    "\n",
    "print(val1)\n",
    "print(val2)\n",
    "\n",
    "vec1 = eig[1][0:2, 0:1]\n",
    "vec2 = eig[1][0:2, 1:]\n",
    "\n",
    "eig1 = [val1, vec1]\n",
    "eig2 = [val2, vec2]\n",
    "\n",
    "print(\"Eigenvalue and Eigenvector 1\")\n",
    "print(eig1)\n",
    "print(\"Eigenvalue and Eigenvector 2\")\n",
    "print(eig2)"
   ]
  },
  {
   "cell_type": "markdown",
   "metadata": {},
   "source": [
    "numpy applies operations to its arrays elementwise. Check you understand the difference by computing the square of 𝐴 and comparing to A**2."
   ]
  },
  {
   "cell_type": "code",
   "execution_count": 6,
   "metadata": {},
   "outputs": [
    {
     "name": "stdout",
     "output_type": "stream",
     "text": [
      "[[2 3]\n",
      " [6 5]]\n",
      "[[22 21]\n",
      " [42 43]]\n",
      "[[ 4  9]\n",
      " [36 25]]\n"
     ]
    }
   ],
   "source": [
    "print(A)\n",
    "print(np.dot(A,A))\n",
    "print(A**2)"
   ]
  },
  {
   "cell_type": "markdown",
   "metadata": {},
   "source": [
    "Create a linearly spaced grid x with spacing dx on 𝑥 ∈ [0, 1], with 50 points (see numpy.linspace)."
   ]
  },
  {
   "cell_type": "code",
   "execution_count": 7,
   "metadata": {},
   "outputs": [],
   "source": [
    "x = np.linspace(0,1,50)"
   ]
  },
  {
   "cell_type": "markdown",
   "metadata": {},
   "source": [
    "Create an array integrand containing sin2(𝜋𝑥) on that grid."
   ]
  },
  {
   "cell_type": "code",
   "execution_count": 8,
   "metadata": {},
   "outputs": [],
   "source": [
    "integrand = np.sin(np.pi * x)**2"
   ]
  },
  {
   "cell_type": "markdown",
   "metadata": {},
   "source": [
    "Using slicing notation and numpy.sum, use the trapezoidal rule to approximate\n",
    "∫1\n",
    "0\n",
    "d𝑥 sin2(𝜋𝑥). To do this, sum all the interior points (not the first and last point) and multiply by the grid spacing dx.\n",
    "Add the first and last points multiplied by dx/2."
   ]
  },
  {
   "cell_type": "code",
   "execution_count": 9,
   "metadata": {},
   "outputs": [
    {
     "name": "stdout",
     "output_type": "stream",
     "text": [
      "24.5\n"
     ]
    },
    {
     "data": {
      "text/plain": [
       "0.49999999999999994"
      ]
     },
     "execution_count": 9,
     "metadata": {},
     "output_type": "execute_result"
    }
   ],
   "source": [
    "interior_points = np.sum(integrand[1:-1])\n",
    "print(interior_points)\n",
    "((1/49)*(interior_points))+((1/98)*(integrand[0]+integrand[49]))"
   ]
  }
 ],
 "metadata": {
  "kernelspec": {
   "display_name": "Python 3",
   "language": "python",
   "name": "python3"
  },
  "language_info": {
   "codemirror_mode": {
    "name": "ipython",
    "version": 3
   },
   "file_extension": ".py",
   "mimetype": "text/x-python",
   "name": "python",
   "nbconvert_exporter": "python",
   "pygments_lexer": "ipython3",
   "version": "3.8.6"
  }
 },
 "nbformat": 4,
 "nbformat_minor": 4
}
